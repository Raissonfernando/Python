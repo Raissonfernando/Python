{
 "cells": [
  {
   "cell_type": "markdown",
   "id": "6747a2b9",
   "metadata": {},
   "source": [
    "## Importando as bibliotecas Pandas, Matplotlib e NLTK"
   ]
  },
  {
   "cell_type": "code",
   "execution_count": 50,
   "id": "7974ef00",
   "metadata": {},
   "outputs": [
    {
     "name": "stdout",
     "output_type": "stream",
     "text": [
      "Collecting unidecode\n",
      "  Downloading Unidecode-1.3.2-py3-none-any.whl (235 kB)\n",
      "Installing collected packages: unidecode\n",
      "Successfully installed unidecode-1.3.2\n",
      "Note: you may need to restart the kernel to use updated packages.\n"
     ]
    }
   ],
   "source": [
    "pip install unidecode"
   ]
  },
  {
   "cell_type": "code",
   "execution_count": 1,
   "id": "00650dbc",
   "metadata": {},
   "outputs": [
    {
     "name": "stderr",
     "output_type": "stream",
     "text": [
      "[nltk_data] Downloading package stopwords to\n",
      "[nltk_data]     C:\\Users\\cs193553\\AppData\\Roaming\\nltk_data...\n",
      "[nltk_data]   Package stopwords is already up-to-date!\n",
      "[nltk_data] Downloading package punkt to\n",
      "[nltk_data]     C:\\Users\\cs193553\\AppData\\Roaming\\nltk_data...\n",
      "[nltk_data]   Package punkt is already up-to-date!\n",
      "[nltk_data] Downloading package wordnet to\n",
      "[nltk_data]     C:\\Users\\cs193553\\AppData\\Roaming\\nltk_data...\n",
      "[nltk_data]   Package wordnet is already up-to-date!\n"
     ]
    },
    {
     "data": {
      "text/plain": [
       "True"
      ]
     },
     "execution_count": 1,
     "metadata": {},
     "output_type": "execute_result"
    }
   ],
   "source": [
    "import pandas as pd\n",
    "import matplotlib.pyplot as plt\n",
    "import nltk\n",
    "##import unidecode\n",
    "from nltk.corpus import stopwords\n",
    "from nltk.tokenize import word_tokenize\n",
    "from nltk.stem.snowball import SnowballStemmer\n",
    "from nltk.stem.wordnet import WordNetLemmatizer\n",
    "nltk.download('stopwords')\n",
    "nltk.download('punkt')\n",
    "nltk.download('wordnet')"
   ]
  },
  {
   "cell_type": "code",
   "execution_count": 2,
   "id": "84fa8e6c",
   "metadata": {},
   "outputs": [],
   "source": [
    "from unidecode import unidecode\n",
    "from sklearn.model_selection import train_test_split\n",
    "from sklearn.feature_extraction.text import TfidfVectorizer\n",
    "from sklearn.preprocessing import LabelEncoder\n",
    "from sklearn.svm import LinearSVC\n",
    "from sklearn.metrics import classification_report\n",
    "from sklearn.metrics import confusion_matrix"
   ]
  },
  {
   "cell_type": "code",
   "execution_count": 55,
   "id": "068676e8",
   "metadata": {},
   "outputs": [],
   "source": [
    "import seaborn as sb\n",
    "import numpy as np"
   ]
  },
  {
   "cell_type": "markdown",
   "id": "91f2db18",
   "metadata": {},
   "source": [
    "## Criando Dataframe e importando dados"
   ]
  },
  {
   "cell_type": "code",
   "execution_count": 3,
   "id": "a113bc39",
   "metadata": {},
   "outputs": [],
   "source": [
    "df = pd.read_csv(\"C:/Users/cs193553/Desktop/Raisson/Mundo dos Dados/incident.csv\", encoding = 'latin1')"
   ]
  },
  {
   "cell_type": "code",
   "execution_count": 4,
   "id": "a4e220a0",
   "metadata": {},
   "outputs": [],
   "source": [
    "dataf = df[:200]"
   ]
  },
  {
   "cell_type": "markdown",
   "id": "75a5de42",
   "metadata": {},
   "source": [
    "## Função limpeza. \n",
    "## Esta função remove chars especiais, transforma em minúscula e remove acentos\n",
    "## Stop_words = remove palavras insignificantes para o texto."
   ]
  },
  {
   "cell_type": "code",
   "execution_count": 5,
   "id": "b67ada2f",
   "metadata": {},
   "outputs": [],
   "source": [
    "def clean_function(df, column_text):\n",
    "    stop_word = stopwords.words('portuguese')\n",
    "    \n",
    "    df[f'{column_text}_cleaned'] = df[f'{column_text}']\\\n",
    "    .apply(lambda x: unidecode(x))\\\n",
    "    .replace(regex=r'[^a-zA-Z]+',value=' ')\\\n",
    "    .apply(lambda x: x.lower())\\\n",
    "    .apply(lambda x: ' '.join([word for word in x.split() if word not in (stop_word)])) \n",
    "    \n",
    "    return df"
   ]
  },
  {
   "cell_type": "code",
   "execution_count": 6,
   "id": "1d38b80a",
   "metadata": {
    "scrolled": true
   },
   "outputs": [
    {
     "name": "stderr",
     "output_type": "stream",
     "text": [
      "<ipython-input-5-2fdd1249db2b>:4: SettingWithCopyWarning: \n",
      "A value is trying to be set on a copy of a slice from a DataFrame.\n",
      "Try using .loc[row_indexer,col_indexer] = value instead\n",
      "\n",
      "See the caveats in the documentation: https://pandas.pydata.org/pandas-docs/stable/user_guide/indexing.html#returning-a-view-versus-a-copy\n",
      "  df[f'{column_text}_cleaned'] = df[f'{column_text}']\\\n"
     ]
    }
   ],
   "source": [
    "dataf = clean_function(dataf,'description')"
   ]
  },
  {
   "cell_type": "code",
   "execution_count": 7,
   "id": "8b280405",
   "metadata": {},
   "outputs": [
    {
     "data": {
      "text/plain": [
       "0      totem check in unidade santa candida nao reali...\n",
       "1      solicito verificacao rede indisponivel sala li...\n",
       "2      informacoes essenciais access point rz eabar a...\n",
       "3      cs tr cs telefone telefone alternativo horario...\n",
       "4      abre pop up solicitando atualizacao instacao d...\n",
       "                             ...                        \n",
       "195    informacoes essenciais switch rz eatrm swa pct...\n",
       "196    informacoes essenciais switch rz eatrm swa amb...\n",
       "197    informacoes essenciais access point rz eapag a...\n",
       "198    informacoes essenciais switch rz eatrm swa fat...\n",
       "199    informacoes essenciais access point rz eapag a...\n",
       "Name: description_cleaned, Length: 200, dtype: object"
      ]
     },
     "execution_count": 7,
     "metadata": {},
     "output_type": "execute_result"
    }
   ],
   "source": [
    "dataf['description_cleaned']"
   ]
  },
  {
   "cell_type": "code",
   "execution_count": 8,
   "id": "ec87ac88",
   "metadata": {},
   "outputs": [
    {
     "data": {
      "text/plain": [
       "'cs tr cs telefone telefone alternativo horario trabalho localidade dois corregos departamento seguranca patrimonial id team viewer dc sadm ocorre outros usuarios sim x nao ocorre outros equipamentos sim x nao maquina pessoal corporativa corporativa ja possui outro chamado sobre assunto sim x nao consultada base conhecimento sim x nao print anexo sim x nao nao justificar aguardando print descricao detalhada dogivaldo contato relatou problemas acesso citrix consta nao possivel acessar site acesso remoto nao possivel equipe poderia verificar atenciosamente equipe service desk'"
      ]
     },
     "execution_count": 8,
     "metadata": {},
     "output_type": "execute_result"
    }
   ],
   "source": [
    "dataf['description_cleaned'][3]"
   ]
  },
  {
   "cell_type": "markdown",
   "id": "90f4e83a",
   "metadata": {},
   "source": [
    "## Contando a quantidade de ocorrências por categoria\n"
   ]
  },
  {
   "cell_type": "code",
   "execution_count": 9,
   "id": "1a240e03",
   "metadata": {},
   "outputs": [
    {
     "data": {
      "text/plain": [
       "Wi-Fi                                3126\n",
       "Desktop                              2645\n",
       "Acessório Específico                 2033\n",
       "Aplicação                            1378\n",
       "Notebook                             1351\n",
       "                                     ... \n",
       "Print Services - Win(in.if.op.ms)       1\n",
       "Portal de Reembolso                     1\n",
       "Investigar Incidente                    1\n",
       "DFSR                                    1\n",
       "Intranet                                1\n",
       "Name: u_subcategory, Length: 146, dtype: int64"
      ]
     },
     "execution_count": 9,
     "metadata": {},
     "output_type": "execute_result"
    }
   ],
   "source": [
    "df['u_subcategory'].value_counts()"
   ]
  },
  {
   "cell_type": "markdown",
   "id": "7e7aeda6",
   "metadata": {},
   "source": [
    "## Criando uma lista com as 8 categorias de maior ocorrências"
   ]
  },
  {
   "cell_type": "code",
   "execution_count": 10,
   "id": "9d34e823",
   "metadata": {},
   "outputs": [],
   "source": [
    "categorias = df['u_category'].value_counts()[:8].index.tolist()"
   ]
  },
  {
   "cell_type": "markdown",
   "id": "e85d6cbb",
   "metadata": {},
   "source": [
    "## Criando um Dataframe para aplicar o algoritmo de ML somente com as 8 categorias selecionadas\n"
   ]
  },
  {
   "cell_type": "code",
   "execution_count": 11,
   "id": "c8b605ba",
   "metadata": {},
   "outputs": [],
   "source": [
    "df_ml = df[df['u_category'].isin(categorias)]\n",
    "df_ml = df_ml[['u_category','description']]"
   ]
  },
  {
   "cell_type": "markdown",
   "id": "1ec3fa06",
   "metadata": {},
   "source": [
    "## Removendo as linhas com ocorrências em NaN"
   ]
  },
  {
   "cell_type": "code",
   "execution_count": 12,
   "id": "ecca1513",
   "metadata": {
    "scrolled": true
   },
   "outputs": [],
   "source": [
    "df_ml = df_ml.dropna()\n",
    "df_ml = clean_function(df_ml, 'description')"
   ]
  },
  {
   "cell_type": "markdown",
   "id": "176d3b89",
   "metadata": {},
   "source": [
    "## Aplicando Label Encoder na coluna CATEGORIAS\n",
    "## Adicionando coluna com os chars transfarmado em números"
   ]
  },
  {
   "cell_type": "code",
   "execution_count": 13,
   "id": "d7d45e9d",
   "metadata": {},
   "outputs": [],
   "source": [
    "categoria_le = LabelEncoder()\n",
    "t_category = categoria_le.fit_transform(df_ml['u_category'])\n",
    "df_ml['target'] = t_category"
   ]
  },
  {
   "cell_type": "markdown",
   "id": "339d2738",
   "metadata": {},
   "source": [
    "## Separando o Dataframe em base de treino e teste"
   ]
  },
  {
   "cell_type": "code",
   "execution_count": 14,
   "id": "45a147c1",
   "metadata": {},
   "outputs": [],
   "source": [
    "train, test = train_test_split(df_ml, test_size=0.30, random_state=42)\n",
    "\n"
   ]
  },
  {
   "cell_type": "markdown",
   "id": "98a21632",
   "metadata": {},
   "source": [
    "## Realiza a contagem de frequencia das palavras no vetor\n",
    "## TF = Frequencia de termos - Pontuação de frequencia da palavra\n",
    "## IDF = Frequencia inversa de documentos - Pontuação de quão rara a palavra é\n",
    "## Apicando na base de treino e teste na coluna description"
   ]
  },
  {
   "cell_type": "code",
   "execution_count": 15,
   "id": "91ac8296",
   "metadata": {},
   "outputs": [],
   "source": [
    "vectorizer = TfidfVectorizer()\n",
    "train_tf_idf = vectorizer.fit_transform(train['description'])\n",
    "test_tf_idf = vectorizer.transform(test['description'])"
   ]
  },
  {
   "cell_type": "markdown",
   "id": "d1da71a5",
   "metadata": {},
   "source": [
    "## Criando o objeto do modelo Linear SVC de Machine learning"
   ]
  },
  {
   "cell_type": "code",
   "execution_count": 16,
   "id": "6bc38070",
   "metadata": {},
   "outputs": [],
   "source": [
    "ml_svc = LinearSVC(random_state=0)"
   ]
  },
  {
   "cell_type": "code",
   "execution_count": 17,
   "id": "be3af01c",
   "metadata": {},
   "outputs": [
    {
     "data": {
      "text/plain": [
       "LinearSVC(random_state=0)"
      ]
     },
     "execution_count": 17,
     "metadata": {},
     "output_type": "execute_result"
    }
   ],
   "source": [
    "ml_svc.fit(train_tf_idf,train['target'])"
   ]
  },
  {
   "cell_type": "code",
   "execution_count": 18,
   "id": "9dc6234f",
   "metadata": {},
   "outputs": [
    {
     "data": {
      "text/plain": [
       "array([6, 4, 1, ..., 2, 4, 7])"
      ]
     },
     "execution_count": 18,
     "metadata": {},
     "output_type": "execute_result"
    }
   ],
   "source": [
    "ml_svc.predict(test_tf_idf)"
   ]
  },
  {
   "cell_type": "markdown",
   "id": "f18b69d1",
   "metadata": {},
   "source": [
    "## Criando um  Dataframe com um texto para teste"
   ]
  },
  {
   "cell_type": "code",
   "execution_count": 19,
   "id": "bd2c4720",
   "metadata": {},
   "outputs": [
    {
     "data": {
      "text/plain": [
       "array(['Impressora'], dtype=object)"
      ]
     },
     "execution_count": 19,
     "metadata": {},
     "output_type": "execute_result"
    }
   ],
   "source": [
    "var_test = 'não inprimi nada corretamente'\n",
    "df_teste = pd.DataFrame(data = {'text': [var_test]})\n",
    "df_test_ml = clean_function(df_teste, 'text')\n",
    "df_test_tf_idf = vectorizer.transform(df_test_ml['text_cleaned'])\n",
    "categoria_le.inverse_transform(ml_svc.predict(df_test_tf_idf))"
   ]
  },
  {
   "cell_type": "code",
   "execution_count": 20,
   "id": "87df7fcf",
   "metadata": {},
   "outputs": [],
   "source": [
    "df_teste = pd.DataFrame(data = {'text': [var_test]})\n",
    "df_test_ml = clean_function(df_teste, 'text')"
   ]
  },
  {
   "cell_type": "code",
   "execution_count": 21,
   "id": "af08b3f1",
   "metadata": {},
   "outputs": [
    {
     "data": {
      "text/html": [
       "<div>\n",
       "<style scoped>\n",
       "    .dataframe tbody tr th:only-of-type {\n",
       "        vertical-align: middle;\n",
       "    }\n",
       "\n",
       "    .dataframe tbody tr th {\n",
       "        vertical-align: top;\n",
       "    }\n",
       "\n",
       "    .dataframe thead th {\n",
       "        text-align: right;\n",
       "    }\n",
       "</style>\n",
       "<table border=\"1\" class=\"dataframe\">\n",
       "  <thead>\n",
       "    <tr style=\"text-align: right;\">\n",
       "      <th></th>\n",
       "      <th>text</th>\n",
       "      <th>text_cleaned</th>\n",
       "    </tr>\n",
       "  </thead>\n",
       "  <tbody>\n",
       "    <tr>\n",
       "      <th>0</th>\n",
       "      <td>não inprimi nada corretamente</td>\n",
       "      <td>nao inprimi nada corretamente</td>\n",
       "    </tr>\n",
       "  </tbody>\n",
       "</table>\n",
       "</div>"
      ],
      "text/plain": [
       "                            text                   text_cleaned\n",
       "0  não inprimi nada corretamente  nao inprimi nada corretamente"
      ]
     },
     "execution_count": 21,
     "metadata": {},
     "output_type": "execute_result"
    }
   ],
   "source": [
    "df_test_ml"
   ]
  },
  {
   "cell_type": "code",
   "execution_count": 22,
   "id": "a28dbeb9",
   "metadata": {},
   "outputs": [],
   "source": [
    "df_test_tf_idf = vectorizer.transform(df_test_ml['text_cleaned'])"
   ]
  },
  {
   "cell_type": "code",
   "execution_count": 23,
   "id": "fc1dacd9",
   "metadata": {},
   "outputs": [
    {
     "data": {
      "text/plain": [
       "array(['Impressora'], dtype=object)"
      ]
     },
     "execution_count": 23,
     "metadata": {},
     "output_type": "execute_result"
    }
   ],
   "source": [
    "categoria_le.inverse_transform(ml_svc.predict(df_test_tf_idf))"
   ]
  },
  {
   "cell_type": "markdown",
   "id": "adb37879",
   "metadata": {},
   "source": [
    "## Atribuindo valores as variáveis True e Pred para métricas"
   ]
  },
  {
   "cell_type": "code",
   "execution_count": 36,
   "id": "d6cca85e",
   "metadata": {},
   "outputs": [],
   "source": [
    "y_true = categoria_le.inverse_transform((test['target']))\n",
    "y_pred = categoria_le.inverse_transform(ml_svc.predict(test_tf_idf))\n",
    "name_target = categoria_le.inverse_transform((test['target'].unique()))"
   ]
  },
  {
   "cell_type": "markdown",
   "id": "694e3380",
   "metadata": {},
   "source": [
    "## Classification_report"
   ]
  },
  {
   "cell_type": "code",
   "execution_count": 37,
   "id": "bae253fe",
   "metadata": {},
   "outputs": [
    {
     "name": "stderr",
     "output_type": "stream",
     "text": [
      "C:\\ProgramData\\Anaconda3\\lib\\site-packages\\sklearn\\utils\\validation.py:70: FutureWarning: Pass labels=['Telefonia Fixa' 'Rede Local' 'Citrix' 'Computador' 'Acessórios'\n",
      " 'Impressora' 'Wi-Fi' 'Redes'] as keyword args. From version 1.0 (renaming of 0.25) passing these as positional arguments will result in an error\n",
      "  warnings.warn(f\"Pass {args_msg} as keyword args. From version \"\n"
     ]
    },
    {
     "name": "stdout",
     "output_type": "stream",
     "text": [
      "                precision    recall  f1-score   support\n",
      "\n",
      "Telefonia Fixa       0.95      0.90      0.92       342\n",
      "    Rede Local       0.98      0.98      0.98      5579\n",
      "        Citrix       0.91      0.88      0.90       429\n",
      "    Computador       0.80      0.87      0.84      1249\n",
      "    Acessórios       0.90      0.88      0.89       998\n",
      "    Impressora       0.94      0.96      0.95       870\n",
      "         Wi-Fi       0.87      0.92      0.89       778\n",
      "         Redes       0.99      0.89      0.94       898\n",
      "\n",
      "      accuracy                           0.94     11143\n",
      "     macro avg       0.92      0.91      0.91     11143\n",
      "  weighted avg       0.94      0.94      0.94     11143\n",
      "\n"
     ]
    }
   ],
   "source": [
    "print(classification_report(y_true, y_pred, name_target))\n"
   ]
  },
  {
   "cell_type": "markdown",
   "id": "e3cc8502",
   "metadata": {},
   "source": [
    "## Matriz de Confusão"
   ]
  },
  {
   "cell_type": "code",
   "execution_count": null,
   "id": "9f4abdc5",
   "metadata": {},
   "outputs": [],
   "source": []
  },
  {
   "cell_type": "code",
   "execution_count": 57,
   "id": "315e6967",
   "metadata": {},
   "outputs": [
    {
     "name": "stderr",
     "output_type": "stream",
     "text": [
      "C:\\ProgramData\\Anaconda3\\lib\\site-packages\\sklearn\\utils\\validation.py:70: FutureWarning: Pass labels=['Telefonia Fixa' 'Rede Local' 'Citrix' 'Computador' 'Acessórios'\n",
      " 'Impressora' 'Wi-Fi' 'Redes'] as keyword args. From version 1.0 (renaming of 0.25) passing these as positional arguments will result in an error\n",
      "  warnings.warn(f\"Pass {args_msg} as keyword args. From version \"\n",
      "<ipython-input-57-0ef36573c981>:2: DeprecationWarning: `np.float` is a deprecated alias for the builtin `float`. To silence this warning, use `float` by itself. Doing this will not modify any behavior and is safe. If you specifically wanted the numpy scalar type, use `np.float64` here.\n",
      "Deprecated in NumPy 1.20; for more details and guidance: https://numpy.org/devdocs/release/1.20.0-notes.html#deprecations\n",
      "  matrix_confusion_porcent = matrix_confusion / matrix_confusion.astype(np.float).sum(axis=1)\n"
     ]
    }
   ],
   "source": [
    "matrix_confusion = confusion_matrix(y_true, y_pred, name_target)\n",
    "matrix_confusion_porcent = matrix_confusion / matrix_confusion.astype(np.float).sum(axis=1)"
   ]
  },
  {
   "cell_type": "code",
   "execution_count": 59,
   "id": "070cb8ca",
   "metadata": {},
   "outputs": [
    {
     "data": {
      "text/plain": [
       "<AxesSubplot:>"
      ]
     },
     "execution_count": 59,
     "metadata": {},
     "output_type": "execute_result"
    },
    {
     "data": {
      "image/png": "[encoded data removed]",
      "text/plain": [
       "<Figure size 1440x360 with 2 Axes>"
      ]
     },
     "metadata": {
      "needs_background": "light"
     },
     "output_type": "display_data"
    }
   ],
   "source": [
    "plt.figure(figsize = (20,5))\n",
    "sb.heatmap(matrix_confusion_porcent, annot=True, xticklabels=name_target, yticklabels=name_target, fmt='.2g')"
   ]
  },
  {
   "cell_type": "code",
   "execution_count": 56,
   "id": "eaa07eae",
   "metadata": {},
   "outputs": [
    {
     "name": "stderr",
     "output_type": "stream",
     "text": [
      "<ipython-input-56-a7331150bec2>:1: DeprecationWarning: `np.float` is a deprecated alias for the builtin `float`. To silence this warning, use `float` by itself. Doing this will not modify any behavior and is safe. If you specifically wanted the numpy scalar type, use `np.float64` here.\n",
      "Deprecated in NumPy 1.20; for more details and guidance: https://numpy.org/devdocs/release/1.20.0-notes.html#deprecations\n",
      "  matrix_confusion / matrix_confusion.astype(np.float).sum(axis=1)\n"
     ]
    },
    {
     "data": {
      "text/plain": [
       "array([[0.89766082, 0.00161319, 0.        , 0.00960769, 0.01402806,\n",
       "        0.        , 0.        , 0.        ],\n",
       "       [0.01169591, 0.97759455, 0.00932401, 0.06485188, 0.01803607,\n",
       "        0.01609195, 0.00514139, 0.        ],\n",
       "       [0.        , 0.00143395, 0.88344988, 0.02642114, 0.00200401,\n",
       "        0.00804598, 0.        , 0.        ],\n",
       "       [0.01461988, 0.00788672, 0.06060606, 0.86869496, 0.06112224,\n",
       "        0.02528736, 0.00771208, 0.        ],\n",
       "       [0.02339181, 0.00233017, 0.00699301, 0.07125701, 0.87975952,\n",
       "        0.0045977 , 0.00385604, 0.        ],\n",
       "       [0.        , 0.00125471, 0.004662  , 0.01761409, 0.001002  ,\n",
       "        0.96321839, 0.        , 0.        ],\n",
       "       [0.        , 0.00250941, 0.002331  , 0.02161729, 0.00701403,\n",
       "        0.00229885, 0.92287918, 0.01002227],\n",
       "       [0.        , 0.        , 0.        , 0.        , 0.        ,\n",
       "        0.        , 0.12724936, 0.88975501]])"
      ]
     },
     "execution_count": 56,
     "metadata": {},
     "output_type": "execute_result"
    }
   ],
   "source": []
  },
  {
   "cell_type": "code",
   "execution_count": null,
   "id": "e14b3ebe",
   "metadata": {},
   "outputs": [],
   "source": []
  }
 ],
 "metadata": {
  "kernelspec": {
   "display_name": "Python 3",
   "language": "python",
   "name": "python3"
  },
  "language_info": {
   "codemirror_mode": {
    "name": "ipython",
    "version": 3
   },
   "file_extension": ".py",
   "mimetype": "text/x-python",
   "name": "python",
   "nbconvert_exporter": "python",
   "pygments_lexer": "ipython3",
   "version": "3.8.8"
  }
 },
 "nbformat": 4,
 "nbformat_minor": 5
}
